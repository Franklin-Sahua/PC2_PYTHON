{
  "nbformat": 4,
  "nbformat_minor": 0,
  "metadata": {
    "colab": {
      "provenance": [],
      "toc_visible": true
    },
    "kernelspec": {
      "name": "python3",
      "display_name": "Python 3"
    },
    "language_info": {
      "name": "python"
    }
  },
  "cells": [
    {
      "cell_type": "markdown",
      "source": [
        "#**Estructuras Iterativas**:"
      ],
      "metadata": {
        "id": "ue6JuXnksgus"
      }
    },
    {
      "cell_type": "markdown",
      "source": [
        "##Problema 1:\n",
        "Escribe un programa en Python para encontrar los números que son divisibles por 7 y múltiplos de 5,\n",
        "en el rango de 1500 y 2700 (ambos incluidos)."
      ],
      "metadata": {
        "id": "V6kaiZxKrne4"
      }
    },
    {
      "cell_type": "code",
      "metadata": {
        "colab": {
          "base_uri": "https://localhost:8080/"
        },
        "id": "3812a178",
        "outputId": "62f020a6-4421-4baa-9aaa-0710db3505ac"
      },
      "source": [
        "numeros_divisibles = []\n",
        "for numero in range(1500, 2701):\n",
        "    if numero % 7 == 0 and numero % 5 == 0:\n",
        "      numeros_divisibles.append(numero)\n",
        "\n",
        "print(numeros_divisibles)"
      ],
      "execution_count": 3,
      "outputs": [
        {
          "output_type": "stream",
          "name": "stdout",
          "text": [
            "[1505, 1540, 1575, 1610, 1645, 1680, 1715, 1750, 1785, 1820, 1855, 1890, 1925, 1960, 1995, 2030, 2065, 2100, 2135, 2170, 2205, 2240, 2275, 2310, 2345, 2380, 2415, 2450, 2485, 2520, 2555, 2590, 2625, 2660, 2695]\n"
          ]
        }
      ]
    },
    {
      "cell_type": "markdown",
      "source": [
        "##Problema 2:\n",
        "Escriba un programa en Python para construir el siguiente patrón."
      ],
      "metadata": {
        "id": "1_wRdtbRrnR_"
      }
    },
    {
      "cell_type": "code",
      "source": [
        "# Programa para imprimir el patrón\n",
        "for i in range(1, 6):\n",
        "    print('* ' * i)\n",
        "\n",
        "for i in range(3, 0, -1):\n",
        "    print('* ' * i)"
      ],
      "metadata": {
        "colab": {
          "base_uri": "https://localhost:8080/"
        },
        "id": "aJJrmnNYs3hw",
        "outputId": "1719e085-6780-4863-b3aa-802622fd8ccc"
      },
      "execution_count": 35,
      "outputs": [
        {
          "output_type": "stream",
          "name": "stdout",
          "text": [
            "* \n",
            "* * \n",
            "* * * \n",
            "* * * * \n",
            "* * * * * \n",
            "* * * \n",
            "* * \n",
            "* \n"
          ]
        }
      ]
    },
    {
      "cell_type": "markdown",
      "source": [
        "##Problema 3:\n",
        "Por medio de un bucle While genere un código que permita el ingreso de números por teclado. El\n",
        "ingreso de los números debe ser permitido hasta que el usuario decida ya no ingresar nuevos\n",
        "números.\n",
        "Con dichos números, su programa debe evaluar cada uno de estos números e indicar la cantidad de\n",
        "números pares e impares."
      ],
      "metadata": {
        "id": "b2dJnOcernPg"
      }
    },
    {
      "cell_type": "code",
      "source": [
        "# Inicialización de variables\n",
        "numeros = []\n",
        "pares = 0\n",
        "impares = 0\n",
        "\n",
        "# Bucle principal\n",
        "while True:\n",
        "    # Preguntar si desea ingresar un número\n",
        "    respuesta = input(\"¿Desea ingresar un número? (SI/NO): \").upper()\n",
        "\n",
        "    if respuesta == \"NO\":\n",
        "        break\n",
        "    elif respuesta != \"SI\":\n",
        "        print(\"Por favor, responda SI o NO\")\n",
        "        continue\n",
        "\n",
        "    # Ingresar el número\n",
        "    try:\n",
        "        numero = int(input(\"Ingrese el número: \"))\n",
        "        numeros.append(numero)\n",
        "\n",
        "        # Contar pares e impares\n",
        "        if numero % 2 == 0:\n",
        "            pares += 1\n",
        "        else:\n",
        "            impares += 1\n",
        "    except ValueError:\n",
        "        print(\"Por favor, ingrese un número válido\") ##plus en caso se agreguen datos incorrectos al bucle\n",
        "\n",
        "# Mostrar resultados\n",
        "print(\"\\nNúmeros ingresados:\", numeros)\n",
        "print(\"Cantidad de números pares:\", pares)\n",
        "print(\"Cantidad de números impares:\", impares)"
      ],
      "metadata": {
        "colab": {
          "base_uri": "https://localhost:8080/"
        },
        "id": "pZihZuc5uuix",
        "outputId": "b19f3c9c-3cf7-4641-f022-4923ef2aa2ac"
      },
      "execution_count": 9,
      "outputs": [
        {
          "output_type": "stream",
          "name": "stdout",
          "text": [
            "¿Desea ingresar un número? (SI/NO): Si\n",
            "Ingrese el número: 7\n",
            "¿Desea ingresar un número? (SI/NO): si\n",
            "Ingrese el número: 9\n",
            "¿Desea ingresar un número? (SI/NO): si\n",
            "Ingrese el número: 7\n",
            "¿Desea ingresar un número? (SI/NO): si\n",
            "Ingrese el número: 2\n",
            "¿Desea ingresar un número? (SI/NO): si\n",
            "Ingrese el número: 4\n",
            "¿Desea ingresar un número? (SI/NO): no\n",
            "\n",
            "Números ingresados: [7, 9, 7, 2, 4]\n",
            "Cantidad de números pares: 2\n",
            "Cantidad de números impares: 3\n"
          ]
        }
      ]
    },
    {
      "cell_type": "markdown",
      "source": [
        "##Problema 4:\n",
        "Imaginemos que lo han contratado para un colegio donde se desea realizar un sistema por el cual se\n",
        "pueda generar un listado de “n” alumnos y 3 calificaciones que corresponden a alguna de sus\n",
        "materias."
      ],
      "metadata": {
        "id": "HAnTWijIrnMv"
      }
    },
    {
      "cell_type": "code",
      "source": [
        "# Crear una lista para almacenar los datos de los alumnos\n",
        "alumnos = []\n",
        "\n",
        "# Cuántos alumnos quiere ingresar\n",
        "n = int(input(\"Ingrese la cantidad de alumnos: \"))\n",
        "\n",
        "# Recolectar la información de cada alumno\n",
        "for i in range(n):\n",
        "    nombre = input(f\"\\nIngrese el nombre del alumno {i+1}: \")\n",
        "    notas = []\n",
        "\n",
        "    for j in range(3):\n",
        "        nota = int(input(f\"Ingrese la nota {j+1} de {nombre}: \"))\n",
        "        notas.append(nota)\n",
        "\n",
        "    alumno = {\n",
        "        \"Alumno\": nombre,\n",
        "        \"Notas\": notas\n",
        "    }\n",
        "\n",
        "    alumnos.append(alumno)\n",
        "\n",
        "# Mostrar el listado completo\n",
        "print(\"\\nListado completo de alumnos:\")\n",
        "for alumno in alumnos:\n",
        "    print(alumno)\n"
      ],
      "metadata": {
        "colab": {
          "base_uri": "https://localhost:8080/"
        },
        "id": "tIpZPdj6wcCM",
        "outputId": "17cff312-5950-4d1d-f990-a0666c16178f"
      },
      "execution_count": 10,
      "outputs": [
        {
          "output_type": "stream",
          "name": "stdout",
          "text": [
            "Ingrese la cantidad de alumnos: 5\n",
            "\n",
            "Ingrese el nombre del alumno 1: ADRIAN\n",
            "Ingrese la nota 1 de ADRIAN: 12\n",
            "Ingrese la nota 2 de ADRIAN: 14\n",
            "Ingrese la nota 3 de ADRIAN: 16\n",
            "\n",
            "Ingrese el nombre del alumno 2: BRYAN\n",
            "Ingrese la nota 1 de BRYAN: 11\n",
            "Ingrese la nota 2 de BRYAN: 9\n",
            "Ingrese la nota 3 de BRYAN: 14\n",
            "\n",
            "Ingrese el nombre del alumno 3: CARLOS\n",
            "Ingrese la nota 1 de CARLOS: 13\n",
            "Ingrese la nota 2 de CARLOS: 13\n",
            "Ingrese la nota 3 de CARLOS: 13\n",
            "\n",
            "Ingrese el nombre del alumno 4: DANIEL\n",
            "Ingrese la nota 1 de DANIEL: 14\n",
            "Ingrese la nota 2 de DANIEL: 17\n",
            "Ingrese la nota 3 de DANIEL: 16\n",
            "\n",
            "Ingrese el nombre del alumno 5: ELIO\n",
            "Ingrese la nota 1 de ELIO: 15\n",
            "Ingrese la nota 2 de ELIO: 12\n",
            "Ingrese la nota 3 de ELIO: 17\n",
            "\n",
            "Listado completo de alumnos:\n",
            "{'Alumno': 'ADRIAN', 'Notas': [12, 14, 16]}\n",
            "{'Alumno': 'BRYAN', 'Notas': [11, 9, 14]}\n",
            "{'Alumno': 'CARLOS', 'Notas': [13, 13, 13]}\n",
            "{'Alumno': 'DANIEL', 'Notas': [14, 17, 16]}\n",
            "{'Alumno': 'ELIO', 'Notas': [15, 12, 17]}\n"
          ]
        }
      ]
    },
    {
      "cell_type": "markdown",
      "source": [
        "#**Funciones**"
      ],
      "metadata": {
        "id": "fUpbAcCornKA"
      }
    },
    {
      "cell_type": "markdown",
      "source": [
        "##Problema 5:\n",
        "Genere una función que tenga como parámetros el ingreso de un número entero y un dígito.\n",
        "Verifique la cantidad de veces que se usa dicho número en el dígito solicitado."
      ],
      "metadata": {
        "id": "Ey6cDHNGrnFw"
      }
    },
    {
      "cell_type": "code",
      "source": [
        "def contar_digito(numero, digito):\n",
        "\n",
        "    # Convertir ambos a string y usar count()\n",
        "    return str(abs(numero)).count(str(digito))\n",
        "\n",
        "n = int(input(\"Ingrese un número entero: \"))\n",
        "d = int(input(\"Ingrese el dígito a buscar (0-9): \"))\n",
        "\n",
        "if 0 <= d <= 9:\n",
        "    veces = contar_digito(n, d)\n",
        "    print(f\"El dígito {d} aparece {veces} veces en el número {n}.\")\n",
        "else:\n",
        "    print(\"Error: Debe ingresar un solo dígito entre 0 y 9.\")\n",
        "\n",
        "\n"
      ],
      "metadata": {
        "colab": {
          "base_uri": "https://localhost:8080/"
        },
        "id": "NmFmjfctxRRJ",
        "outputId": "57377569-704e-48a8-e86c-bb122b272980"
      },
      "execution_count": 17,
      "outputs": [
        {
          "output_type": "stream",
          "name": "stdout",
          "text": [
            "Ingrese un número entero: 1111\n",
            "Ingrese el dígito a buscar (0-9): 1\n",
            "El dígito 1 aparece 4 veces en el número 1111.\n"
          ]
        }
      ]
    },
    {
      "cell_type": "markdown",
      "source": [
        "##Problema 6:\n",
        "Escriba un programa en Python para obtener la serie de Fibonacci entre 0 y 50.\n",
        "Nota: La secuencia de Fibonacci es la serie de números:\n",
        "0, 1, 1, 2, 3, 5, 8, 13, 21,. ..."
      ],
      "metadata": {
        "id": "MoCOpl-YxGUj"
      }
    },
    {
      "cell_type": "code",
      "source": [
        "# Serie de Fibonacci entre 0 y 50\n",
        "\n",
        "a, b = 0, 1\n",
        "\n",
        "print(\"Serie de Fibonacci entre 0 y 50:\")\n",
        "\n",
        "while a <= 50: #ingresar el numero que termina el intervalo de 0 a n\n",
        "    print(a, end=\", \")\n",
        "    a, b = b, a + b\n"
      ],
      "metadata": {
        "colab": {
          "base_uri": "https://localhost:8080/"
        },
        "id": "XHVCczye0_jk",
        "outputId": "95f69ad6-6259-4c70-b349-87f6658c70c8"
      },
      "execution_count": 18,
      "outputs": [
        {
          "output_type": "stream",
          "name": "stdout",
          "text": [
            "Serie de Fibonacci entre 0 y 50:\n",
            "0, 1, 1, 2, 3, 5, 8, 13, 21, 34, "
          ]
        }
      ]
    },
    {
      "cell_type": "markdown",
      "source": [
        "##Problema 7:\n",
        "Escriba una función de Python que tome un número como parámetro y verifique que el número sea\n",
        "primo o no."
      ],
      "metadata": {
        "id": "nQcrvwENxGPL"
      }
    },
    {
      "cell_type": "code",
      "metadata": {
        "colab": {
          "base_uri": "https://localhost:8080/"
        },
        "id": "729f0c60",
        "outputId": "6a1d74b1-cb42-4724-fd0f-8cadf6d2c1f5"
      },
      "source": [
        "def es_primo(numero):\n",
        "    if numero <= 1:\n",
        "        return False\n",
        "    for i in range(2, numero):\n",
        "        if numero % i == 0:\n",
        "            return False\n",
        "    return True\n",
        "\n",
        "\n",
        "num = int(input(\"Ingrese un número: \"))\n",
        "\n",
        "if es_primo(num):\n",
        "    print(f\"{num} es un número primo.\")\n",
        "else:\n",
        "    print(f\"{num} no es un número primo.\")\n",
        "\n",
        "\n",
        "# Ejemplo de uso:\n",
        "num = int(input(\"Ingrese un número para verificar si es primo: \"))\n",
        "\n",
        "if es_primo(num):\n",
        "  print(f\"{num} es un número primo.\")\n",
        "else:\n",
        "  print(f\"{num} no es un número primo.\")"
      ],
      "execution_count": 36,
      "outputs": [
        {
          "output_type": "stream",
          "name": "stdout",
          "text": [
            "Ingrese un número: 13\n",
            "13 es un número primo.\n",
            "Ingrese un número para verificar si es primo: 4\n",
            "4 no es un número primo.\n"
          ]
        }
      ]
    },
    {
      "cell_type": "markdown",
      "source": [
        "##Problema 8:\n",
        "Escribe una función de Python para calcular el factorial de un número (un entero no negativo). La\n",
        "función acepta el número como argumento."
      ],
      "metadata": {
        "id": "yDEHu1NzxGI7"
      }
    },
    {
      "cell_type": "code",
      "source": [
        "def factorial(n):\n",
        "    if n < 0:\n",
        "        return \"El número debe ser no negativo.\"\n",
        "\n",
        "    resultado = 1\n",
        "    for i in range(1, n + 1):\n",
        "        resultado *= i\n",
        "    return resultado\n",
        "\n",
        "numero = int(input(\"Ingrese un número entero: \"))\n",
        "print(f\"El factorial de {numero} es: {factorial(numero)}\")\n"
      ],
      "metadata": {
        "colab": {
          "base_uri": "https://localhost:8080/"
        },
        "id": "ajvuOVHL8d6o",
        "outputId": "38a2efab-8b3f-40a5-b251-b1aa58cc34b3"
      },
      "execution_count": 28,
      "outputs": [
        {
          "output_type": "stream",
          "name": "stdout",
          "text": [
            "Ingrese un número entero: 4\n",
            "El factorial de 4 es: 24\n"
          ]
        }
      ]
    },
    {
      "cell_type": "markdown",
      "source": [],
      "metadata": {
        "id": "8Oy-Lp4R9Nc3"
      }
    },
    {
      "cell_type": "markdown",
      "source": [
        "#**Métodos de Cadenas**"
      ],
      "metadata": {
        "id": "r7_EeM-2xFxL"
      }
    },
    {
      "cell_type": "markdown",
      "source": [
        "##Problema 9:\n",
        "Al enviar mensajes de texto o twittear, no es raro acortar las palabras para ahorrar tiempo o espacio,\n",
        "por ejemplo, omitiendo las vocales.\n",
        "Implemente un programa que solicite al usuario una cadena de texto y luego retorne ese mismo\n",
        "texto pero con todas las vocales (A, E, I, O y U) omitidas, ya sea que se ingresen en mayúsculas o\n",
        "minúsculas."
      ],
      "metadata": {
        "id": "-LhGtB-k9E7g"
      }
    },
    {
      "cell_type": "code",
      "metadata": {
        "colab": {
          "base_uri": "https://localhost:8080/"
        },
        "id": "6b2023a3",
        "outputId": "62192b71-0c67-4690-b577-fc2472785015"
      },
      "source": [
        "# Problema 9: Omitir vocales en una cadena de texto\n",
        "\n",
        "texto_original = input(\"Ingrese una cadena de texto: \")\n",
        "texto_sin_vocales = \"\"\n",
        "vocales = \"aeiouAEIOU\"\n",
        "\n",
        "for caracter in texto_original:\n",
        "    if caracter not in vocales:\n",
        "        texto_sin_vocales += caracter\n",
        "\n",
        "print(\"Texto sin vocales:\", texto_sin_vocales)"
      ],
      "execution_count": 29,
      "outputs": [
        {
          "output_type": "stream",
          "name": "stdout",
          "text": [
            "Ingrese una cadena de texto: BIENVENIDO\n",
            "Texto sin vocales: BNVND\n"
          ]
        }
      ]
    },
    {
      "cell_type": "markdown",
      "source": [
        "##Problema 10:\n",
        "En los Estados Unidos, las fechas suelen tener el siguiente formato: mes-día-año (MM/DD/AAAA). Las\n",
        "fechas en ese formato no se pueden ordenar fácilmente porque el año de la fecha es el último en\n",
        "lugar del primero. Intente ordenar, por ejemplo, 2/2/1800, 3/3/1900 y 1/1/2000 cronológicamente\n",
        "en cualquier programa (por ejemplo, una hoja de cálculo). Las fechas en ese formato también son\n",
        "ambiguas. ¡Una fecha como el 8 de septiembre de 1636, podría interpretarse como el 9 de agosto de\n",
        "1636!  \n",
        "Implementar un programa que pida al usuario una fecha, en orden mes-día-año, con formato como\n",
        "8/9/1636 o Septiembre 8, 1636, donde el mes en este último podría ser cualquiera de los valores en\n",
        "la lista abajo:"
      ],
      "metadata": {
        "id": "gruBiAbw9E0A"
      }
    },
    {
      "cell_type": "code",
      "execution_count": 34,
      "metadata": {
        "colab": {
          "base_uri": "https://localhost:8080/"
        },
        "id": "PYdmCGwZrSD3",
        "outputId": "948c07b3-1c83-48c9-847c-28c49b140668"
      },
      "outputs": [
        {
          "output_type": "stream",
          "name": "stdout",
          "text": [
            "1636-09-08\n",
            "1636-09-08\n",
            "1970-01-01\n"
          ]
        }
      ],
      "source": [
        "def convertir_fecha(fecha):\n",
        "    meses = {\n",
        "        \"Enero\": \"01\",\n",
        "        \"Febrero\": \"02\",\n",
        "        \"Marzo\": \"03\",\n",
        "        \"Abril\": \"04\",\n",
        "        \"Mayo\": \"05\",\n",
        "        \"Junio\": \"06\",\n",
        "        \"Julio\": \"07\",\n",
        "        \"Agosto\": \"08\",\n",
        "        \"Septiembre\": \"09\",\n",
        "        \"Octubre\": \"10\",\n",
        "        \"Noviembre\": \"11\",\n",
        "        \"Diciembre\": \"12\"\n",
        "    }\n",
        "\n",
        "    # Eliminar espacios extra\n",
        "    fecha = fecha.strip()\n",
        "\n",
        "    try:\n",
        "        # Caso formato MM/DD/AAAA\n",
        "        if \"/\" in fecha:\n",
        "            mes, dia, año = fecha.split(\"/\")\n",
        "            mes = mes.zfill(2)\n",
        "            dia = dia.zfill(2)\n",
        "            return f\"{año}-{mes}-{dia}\"\n",
        "\n",
        "        # Caso formato 'Mes DD, AAAA'\n",
        "        else:\n",
        "            partes = fecha.replace(\",\", \"\").split()\n",
        "            mes_nombre = partes[0].capitalize()\n",
        "            dia = partes[1].zfill(2)\n",
        "            año = partes[2]\n",
        "\n",
        "            if mes_nombre in meses:\n",
        "                mes = meses[mes_nombre]\n",
        "                return f\"{año}-{mes}-{dia}\"\n",
        "            else:\n",
        "                return \"Mes no válido.\"\n",
        "\n",
        "    except Exception as e:\n",
        "        return f\"Error en el formato de la fecha: {e}\"\n",
        "\n",
        "# Ejemplos de uso\n",
        "print(convertir_fecha(\"9/8/1636\"))\n",
        "print(convertir_fecha(\"Septiembre 8, 1636\"))\n",
        "print(convertir_fecha(\"1/1/1970\"))\n"
      ]
    },
    {
      "cell_type": "markdown",
      "source": [
        "#**EJERCICIOS ADICIONALES**"
      ],
      "metadata": {
        "id": "EsVw-9p1Ae5u"
      }
    },
    {
      "cell_type": "markdown",
      "source": [
        "##1.\n",
        "Realizar una función que permita la carga de n alumnos. Por cada alumno se deberá preguntar el nombre completo y permitir el ingreso de 3 notas. Las notas deben estar comprendidas entre 0 y 10. Devolver el listado de alumnos."
      ],
      "metadata": {
        "id": "HGBCxsoaAl0F"
      }
    },
    {
      "cell_type": "code",
      "source": [
        "# Crear una lista para almacenar los datos de los alumnos\n",
        "alumnos = []\n",
        "\n",
        "# Cuántos alumnos quiere ingresar\n",
        "n = int(input(\"Ingrese la cantidad de alumnos: \"))\n",
        "\n",
        "# Recolectar la información de cada alumno\n",
        "for i in range(n):\n",
        "    nombre = input(f\"\\nIngrese el nombre del alumno {i+1}: \")\n",
        "    notas = []\n",
        "\n",
        "    for j in range(3):\n",
        "        nota = int(input(f\"Ingrese la nota {j+1} de {nombre}: \"))\n",
        "        notas.append(nota)\n",
        "\n",
        "    alumno = {\n",
        "        \"Alumno\": nombre,\n",
        "        \"Notas\": notas\n",
        "    }\n",
        "\n",
        "    alumnos.append(alumno)\n",
        "\n",
        "# Mostrar el listado completo\n",
        "print(\"\\nListado completo de alumnos:\")\n",
        "for alumno in alumnos:\n",
        "    print(alumno)\n"
      ],
      "metadata": {
        "colab": {
          "base_uri": "https://localhost:8080/"
        },
        "id": "B4kskiJMBrln",
        "outputId": "28f59f63-026a-4bbd-a1d9-b746a313a788"
      },
      "execution_count": 49,
      "outputs": [
        {
          "output_type": "stream",
          "name": "stdout",
          "text": [
            "Ingrese la cantidad de alumnos: 4\n",
            "\n",
            "Ingrese el nombre del alumno 1: ABEL\n",
            "Ingrese la nota 1 de ABEL: 4\n",
            "Ingrese la nota 2 de ABEL: 5\n",
            "Ingrese la nota 3 de ABEL: 5\n",
            "\n",
            "Ingrese el nombre del alumno 2: BRISA\n",
            "Ingrese la nota 1 de BRISA: 1\n",
            "Ingrese la nota 2 de BRISA: 6\n",
            "Ingrese la nota 3 de BRISA: 7\n",
            "\n",
            "Ingrese el nombre del alumno 3: CARLA\n",
            "Ingrese la nota 1 de CARLA: 6\n",
            "Ingrese la nota 2 de CARLA: 8\n",
            "Ingrese la nota 3 de CARLA: 9\n",
            "\n",
            "Ingrese el nombre del alumno 4: DANIEL\n",
            "Ingrese la nota 1 de DANIEL: 2\n",
            "Ingrese la nota 2 de DANIEL: 3\n",
            "Ingrese la nota 3 de DANIEL: 9\n",
            "\n",
            "Listado completo de alumnos:\n",
            "{'Alumno': 'ABEL', 'Notas': [4, 5, 5]}\n",
            "{'Alumno': 'BRISA', 'Notas': [1, 6, 7]}\n",
            "{'Alumno': 'CARLA', 'Notas': [6, 8, 9]}\n",
            "{'Alumno': 'DANIEL', 'Notas': [2, 3, 9]}\n"
          ]
        }
      ]
    },
    {
      "cell_type": "markdown",
      "source": [
        "##2.\n",
        "Definir una función que dado un listado de alumnos evalúe cuántos aprobaron y cuántos desaprobaron, teniendo en cuenta que se aprueba con 4. La nota será el promedio de las 3 notas para cada alumno."
      ],
      "metadata": {
        "id": "mHhLyhT_Altk"
      }
    },
    {
      "cell_type": "code",
      "metadata": {
        "colab": {
          "base_uri": "https://localhost:8080/"
        },
        "id": "64ef790d",
        "outputId": "181c5ab3-83a1-444f-9b27-086c573a6fff"
      },
      "source": [
        "# Problema 2: Evaluar aprobados y desaprobados\n",
        "\n",
        "def evaluar_aprobados_desaprobados(lista_alumnos):\n",
        "    aprobados = 0\n",
        "    desaprobados = 0\n",
        "    resultados = []\n",
        "\n",
        "    for alumno in lista_alumnos:\n",
        "        nombre = alumno[\"Alumno\"]\n",
        "        notas = alumno[\"Notas\"]\n",
        "        promedio = sum(notas) / len(notas)\n",
        "\n",
        "        estado = \"Aprobado\" if promedio >= 4 else \"Desaprobado\"\n",
        "        resultados.append({\"Alumno\": nombre, \"Promedio\": promedio, \"Estado\": estado})\n",
        "\n",
        "        if promedio >= 4:\n",
        "            aprobados += 1\n",
        "        else:\n",
        "            desaprobados += 1\n",
        "\n",
        "    print(f\"\\nCantidad de alumnos aprobados: {aprobados}\")\n",
        "    print(f\"Cantidad de alumnos desaprobados: {desaprobados}\")\n",
        "    return resultados\n",
        "\n",
        "# Usar la función con la lista de alumnos del Problema 1\n",
        "resultados_evaluacion = evaluar_aprobados_desaprobados(alumnos)\n"
      ],
      "execution_count": 54,
      "outputs": [
        {
          "output_type": "stream",
          "name": "stdout",
          "text": [
            "\n",
            "Cantidad de alumnos aprobados: 4\n",
            "Cantidad de alumnos desaprobados: 0\n"
          ]
        }
      ]
    },
    {
      "cell_type": "markdown",
      "source": [
        "##3.\n",
        "Informar el promedio de nota del curso total"
      ],
      "metadata": {
        "id": "H2TkOM9kAllc"
      }
    },
    {
      "cell_type": "code",
      "metadata": {
        "colab": {
          "base_uri": "https://localhost:8080/"
        },
        "id": "ea299e2f",
        "outputId": "e15fe360-f1f1-4fa6-d4eb-65b4db57bb43"
      },
      "source": [
        "# Problema 3: Promedio de nota del curso total\n",
        "\n",
        "def promedio_curso_total(lista_alumnos):\n",
        "    total_notas = 0\n",
        "    total_alumnos = len(lista_alumnos)\n",
        "\n",
        "    if total_alumnos == 0:\n",
        "        return\n",
        "\n",
        "    for alumno in lista_alumnos:\n",
        "        total_notas += sum(alumno[\"Notas\"])\n",
        "\n",
        "    promedio_total = total_notas / (total_alumnos * 3) # 3 notas por alumno\n",
        "    return promedio_total\n",
        "\n",
        "# Usar la función con la lista de alumnos del Problema 1\n",
        "promedio_general = promedio_curso_total(alumnos)\n",
        "print(f\"\\nEl promedio total de nota del curso es: {promedio_general:.2f}\")"
      ],
      "execution_count": 51,
      "outputs": [
        {
          "output_type": "stream",
          "name": "stdout",
          "text": [
            "\n",
            "El promedio total de nota del curso es: 5.42\n"
          ]
        }
      ]
    },
    {
      "cell_type": "markdown",
      "source": [
        "##4.\n",
        "Realizar una función que indique quién tuvo el promedio más alto y quién tuvo la nota promedio más baja."
      ],
      "metadata": {
        "id": "pGa83IjVAlJV"
      }
    },
    {
      "cell_type": "code",
      "metadata": {
        "colab": {
          "base_uri": "https://localhost:8080/"
        },
        "id": "e300438d",
        "outputId": "f3b7fb13-2537-449e-fb53-84baf7edbf00"
      },
      "source": [
        "# Problema 4: Alumno con el promedio más alto y más bajo\n",
        "\n",
        "def promedio_mas_alto_y_bajo(lista_alumnos):\n",
        "    if not lista_alumnos:\n",
        "        return None, None # No hay alumnos en la lista\n",
        "\n",
        "    mejor_alumno = None\n",
        "    peor_alumno = None\n",
        "    promedio_alto =\n",
        "    promedio_bajo =\n",
        "\n",
        "    for alumno in lista_alumnos:\n",
        "        nombre = alumno[\"Alumno\"]\n",
        "        notas = alumno[\"Notas\"]\n",
        "        promedio = sum(notas) / len(notas)\n",
        "\n",
        "        if promedio > promedio_alto:\n",
        "            promedio_alto = promedio\n",
        "            mejor_alumno = nombre\n",
        "\n",
        "        if promedio < promedio_bajo:\n",
        "            promedio_bajo = promedio\n",
        "            peor_alumno = nombre\n",
        "\n",
        "    print(f\"\\nAlumno con el promedio más alto: {mejor_alumno} (Promedio: {promedio_alto:.2f})\")\n",
        "    print(f\"Alumno con el promedio más bajo: {peor_alumno} (Promedio: {promedio_bajo:.2f})\")\n",
        "    return mejor_alumno, promedio_alto, peor_alumno, promedio_bajo\n",
        "\n",
        "# Usar la función con la lista de alumnos del Problema 1\n",
        "mejor, prom_alto, peor, prom_bajo = promedio_mas_alto_y_bajo(alumnos)"
      ],
      "execution_count": 52,
      "outputs": [
        {
          "output_type": "stream",
          "name": "stdout",
          "text": [
            "\n",
            "Alumno con el promedio más alto: CARLA (Promedio: 7.67)\n",
            "Alumno con el promedio más bajo: ABEL (Promedio: 4.67)\n"
          ]
        }
      ]
    },
    {
      "cell_type": "markdown",
      "source": [
        "##5.\n",
        "Realizar una función que permita buscar un alumno por nombre, siendo el nombre completo o parcial, y devuelva una lista con los n alumnos que concuerden con ese nombre junto con todos sus datos, incluido el promedio de sus notas."
      ],
      "metadata": {
        "id": "JpZwWUzNBAWf"
      }
    },
    {
      "cell_type": "code",
      "metadata": {
        "colab": {
          "base_uri": "https://localhost:8080/"
        },
        "id": "77fe293b",
        "outputId": "34954b92-0657-4862-ebbb-6d7adeb8c626"
      },
      "source": [
        "# Problema 5: Buscar alumno por nombre\n",
        "\n",
        "def buscar_alumno_por_nombre(lista_alumnos, nombre_buscado):\n",
        "    alumnos_encontrados = []\n",
        "    nombre_buscado = nombre_buscado.lower() # Convertir a minúsculas para búsqueda insensible a mayúsculas\n",
        "\n",
        "    for alumno in lista_alumnos:\n",
        "        nombre_alumno = alumno[\"Alumno\"].lower()\n",
        "        if nombre_buscado in nombre_alumno:\n",
        "            notas = alumno[\"Notas\"]\n",
        "            promedio = sum(notas) / len(notas)\n",
        "            alumnos_encontrados.append({\n",
        "                \"Alumno\": alumno[\"Alumno\"],\n",
        "                \"Notas\": notas,\n",
        "                \"Promedio\": promedio\n",
        "            })\n",
        "\n",
        "    return alumnos_encontrados\n",
        "\n",
        "# Ejemplo de uso:\n",
        "nombre_a_buscar = input(\"\\nIngrese el nombre (completo o parcial) del alumno a buscar: \")\n",
        "alumnos_coincidentes = buscar_alumno_por_nombre(alumnos, nombre_a_buscar)\n",
        "\n",
        "if alumnos_coincidentes:\n",
        "    print(f\"\\nAlumnos encontrados que coinciden con '{nombre_a_buscar}':\")\n",
        "    for alumno_encontrado in alumnos_coincidentes:\n",
        "        print(f\"  - Nombre: {alumno_encontrado['Alumno']}, Notas: {alumno_encontrado['Notas']}, Promedio: {alumno_encontrado['Promedio']:.2f}\")\n",
        "else:\n",
        "    print(f\"\\nNo se encontraron alumnos que coincidan con '{nombre_a_buscar}'.\")"
      ],
      "execution_count": 53,
      "outputs": [
        {
          "output_type": "stream",
          "name": "stdout",
          "text": [
            "\n",
            "Ingrese el nombre (completo o parcial) del alumno a buscar: ABEL\n",
            "\n",
            "Alumnos encontrados que coinciden con 'ABEL':\n",
            "  - Nombre: ABEL, Notas: [4, 5, 5], Promedio: 4.67\n"
          ]
        }
      ]
    }
  ]
}